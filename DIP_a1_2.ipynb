{
  "nbformat": 4,
  "nbformat_minor": 0,
  "metadata": {
    "colab": {
      "provenance": [],
      "authorship_tag": "ABX9TyN0kTLeBrNsuSlmgZacFlP8",
      "include_colab_link": true
    },
    "kernelspec": {
      "name": "python3",
      "display_name": "Python 3"
    },
    "language_info": {
      "name": "python"
    }
  },
  "cells": [
    {
      "cell_type": "markdown",
      "metadata": {
        "id": "view-in-github",
        "colab_type": "text"
      },
      "source": [
        "<a href=\"https://colab.research.google.com/github/me-t1me/DIP_ASS_1/blob/master/DIP_a1_2.ipynb\" target=\"_parent\"><img src=\"https://colab.research.google.com/assets/colab-badge.svg\" alt=\"Open In Colab\"/></a>"
      ]
    },
    {
      "cell_type": "code",
      "execution_count": null,
      "metadata": {
        "id": "QEpG-YBHhybG"
      },
      "outputs": [],
      "source": [
        "import cv2\n",
        "from google.colab.patches import cv2_imshow"
      ]
    },
    {
      "cell_type": "code",
      "source": [
        "\n",
        "cap = cv2.VideoCapture(\"moon.mp4\")\n",
        "\n",
        "if not cap.isOpened():\n",
        "    print(\"Error opening video file\")\n",
        "    exit()\n",
        "\n",
        "fps = cap.get(cv2.CAP_PROP_FPS)\n",
        "\n",
        "frame_width = int(cap.get(cv2.CAP_PROP_FRAME_WIDTH))\n",
        "frame_height = int(cap.get(cv2.CAP_PROP_FRAME_HEIGHT))\n",
        "\n",
        "fourcc = cv2.VideoWriter_fourcc(*'mp4v')\n",
        "out = cv2.VideoWriter('output_with_text.mp4', fourcc, fps, (frame_width, frame_height), isColor=True)\n",
        "\n",
        "while True:\n",
        "\n",
        "    ret, frame = cap.read()\n",
        "\n",
        "    # Check if the frame was successfully read\n",
        "    if not ret:\n",
        "        break\n",
        "\n",
        "\n",
        "    text = \"Digital Signal Processing\"\n",
        "    font = cv2.FONT_HERSHEY_SIMPLEX\n",
        "    font_scale = 2\n",
        "    thickness = 3\n",
        "    text_size, _ = cv2.getTextSize(text, font, font_scale, thickness)\n",
        "    # text in top right corner\n",
        "    x = frame_width - text_size[0] - 10\n",
        "    y = text_size[1] + 10\n",
        "    \n",
        "    color = (255, 0, 0)\n",
        "    cv2.putText(frame, text, (x, y), font, font_scale, color, thickness)\n",
        "\n",
        "    out.write(frame)\n",
        "\n",
        "    cv2_imshow(frame)\n",
        "\n",
        "    key = cv2.waitKey(int(1000/fps))\n",
        "    if key == 27:\n",
        "        break\n",
        "\n",
        "out.release()\n",
        "cap.release()\n",
        "\n",
        "cv2.destroyAllWindows()\n"
      ],
      "metadata": {
        "id": "6WBMrmxnh6bO"
      },
      "execution_count": null,
      "outputs": []
    },
    {
      "cell_type": "code",
      "source": [],
      "metadata": {
        "id": "9lrUSji1iRn0"
      },
      "execution_count": null,
      "outputs": []
    }
  ]
}