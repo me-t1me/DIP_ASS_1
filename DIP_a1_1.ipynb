{
  "nbformat": 4,
  "nbformat_minor": 0,
  "metadata": {
    "colab": {
      "provenance": [],
      "authorship_tag": "ABX9TyM802dm782pq9hY0trA8L7a",
      "include_colab_link": true
    },
    "kernelspec": {
      "name": "python3",
      "display_name": "Python 3"
    },
    "language_info": {
      "name": "python"
    }
  },
  "cells": [
    {
      "cell_type": "markdown",
      "metadata": {
        "id": "view-in-github",
        "colab_type": "text"
      },
      "source": [
        "<a href=\"https://colab.research.google.com/github/me-t1me/DIP_ASS_1/blob/master/DIP_a1_1.ipynb\" target=\"_parent\"><img src=\"https://colab.research.google.com/assets/colab-badge.svg\" alt=\"Open In Colab\"/></a>"
      ]
    },
    {
      "cell_type": "code",
      "source": [
        "import cv2\n",
        "from google.colab.patches import cv2_imshow"
      ],
      "metadata": {
        "id": "8NAXfGFvGjRT"
      },
      "execution_count": null,
      "outputs": []
    },
    {
      "cell_type": "code",
      "source": [
        "cap = cv2.VideoCapture(\"moon.mp4\")\n",
        "if not cap.isOpened():\n",
        "  print(\"Error opening video file\")\n",
        "  exit()\n",
        "\n",
        "fps = cap.get(cv2.CAP_PROP_FPS)\n",
        "\n",
        "frame_width = int(cap.get(cv2.CAP_PROP_FRAME_WIDTH))\n",
        "frame_height = int(cap.get(cv2.CAP_PROP_FRAME_HEIGHT))\n",
        "\n",
        "fourcc = cv2.VideoWriter_fourcc(*'mp4v')\n",
        "\n",
        "# for nearest neighour interpolation\n",
        "out_nn = cv2.VideoWriter('moon_nn.mp4', fourcc, fps, (frame_width*2, frame_height*2), isColor=False)\n",
        "# for bilinear interpolation\n",
        "out_bilinear = cv2.VideoWriter('moon_bilinear.mp4', fourcc, fps, (frame_width*2, frame_height*2), isColor=False)\n",
        "# for bicubic interpolation\n",
        "out_bicubic = cv2.VideoWriter('moon_bicubic.mp4', fourcc, fps, (frame_width*2, frame_height*2), isColor=False)\n"
      ],
      "metadata": {
        "id": "GEJ_UwfQG1sl"
      },
      "execution_count": null,
      "outputs": []
    },
    {
      "cell_type": "code",
      "source": [
        "while True:\n",
        "  ret, frame = cap.read()\n",
        "\n",
        "  if not ret:\n",
        "    break\n",
        "\n",
        "  # Convert the frame to grayscale\n",
        "  gray = cv2.cvtColor(frame, cv2.COLOR_BGR2GRAY)\n",
        "\n",
        "  # Nearest neighbor interpolation\n",
        "  nn = cv2.resize(gray, (frame_width*2, frame_height*2), interpolation=cv2.INTER_NEAREST)\n",
        "\n",
        "  # Bilinear interpolation\n",
        "  bilinear = cv2.resize(gray, (frame_width*2, frame_height*2), interpolation=cv2.INTER_LINEAR)\n",
        "\n",
        "  # Bicubic interpolation\n",
        "  bicubic = cv2.resize(gray, (frame_width*2, frame_height*2), interpolation=cv2.INTER_CUBIC)\n",
        "\n",
        "  # Write the resized frame to the output video\n",
        "  out_nn.write(nn)\n",
        "  out_bilinear.write(bilinear)\n",
        "  out_bicubic.write(bicubic)\n",
        "\n",
        "  # Show the frame\n",
        "  cv2_imshow(gray)"
      ],
      "metadata": {
        "id": "k2bTKuPIo51v"
      },
      "execution_count": null,
      "outputs": []
    },
    {
      "cell_type": "code",
      "source": [
        "out_nn.release()\n",
        "out_bilinear.release()\n",
        "out_bicubic.release()\n",
        "cap.release()"
      ],
      "metadata": {
        "id": "YXFPJfURdUOU"
      },
      "execution_count": null,
      "outputs": []
    },
    {
      "cell_type": "code",
      "source": [],
      "metadata": {
        "id": "5UtTpYoTefCV"
      },
      "execution_count": null,
      "outputs": []
    }
  ]
}