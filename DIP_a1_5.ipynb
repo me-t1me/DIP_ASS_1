{
  "nbformat": 4,
  "nbformat_minor": 0,
  "metadata": {
    "colab": {
      "provenance": [],
      "authorship_tag": "ABX9TyMhgIeYk/RUDRSVJbgYQZxh",
      "include_colab_link": true
    },
    "kernelspec": {
      "name": "python3",
      "display_name": "Python 3"
    },
    "language_info": {
      "name": "python"
    }
  },
  "cells": [
    {
      "cell_type": "markdown",
      "metadata": {
        "id": "view-in-github",
        "colab_type": "text"
      },
      "source": [
        "<a href=\"https://colab.research.google.com/github/me-t1me/DIP_ASS_1/blob/master/DIP_a1_5.ipynb\" target=\"_parent\"><img src=\"https://colab.research.google.com/assets/colab-badge.svg\" alt=\"Open In Colab\"/></a>"
      ]
    },
    {
      "cell_type": "code",
      "execution_count": null,
      "metadata": {
        "id": "1IJ-AF4N2FEj"
      },
      "outputs": [],
      "source": [
        "import cv2\n",
        "import numpy as np\n",
        "\n",
        "# Load the video\n",
        "cap = cv2.VideoCapture(\"ans3_moon_ce.mp4\")\n",
        "\n",
        "# Check if the video was successfully opened\n",
        "if not cap.isOpened():\n",
        "    print(\"Error opening video file\")\n",
        "    exit()\n",
        "\n",
        "# Get the video frames per second (fps)\n",
        "fps = cap.get(cv2.CAP_PROP_FPS)\n",
        "\n",
        "# Get the video frame size\n",
        "frame_width = int(cap.get(cv2.CAP_PROP_FRAME_WIDTH))\n",
        "frame_height = int(cap.get(cv2.CAP_PROP_FRAME_HEIGHT))\n",
        "\n",
        "# Define the codec and create the video writer object\n",
        "fourcc = cv2.VideoWriter_fourcc(*'mp4v')\n",
        "out = cv2.VideoWriter('output_gray_level_slicing.mp4', fourcc, fps, (frame_width, frame_height), isColor=False)\n",
        "\n",
        "while True:\n",
        "    # Read a frame from the video\n",
        "    ret, frame = cap.read()\n",
        "\n",
        "    if not ret:\n",
        "        break\n",
        "\n",
        "    min_level, max_level = 100, 200\n",
        "    gray = cv2.cvtColor(frame, cv2.COLOR_BGR2GRAY)\n",
        "    mask = cv2.inRange(gray, min_level, max_level)\n",
        "    slice = cv2.bitwise_and(gray, gray, mask=mask)\n",
        "\n",
        "    # Write the frame to the output video\n",
        "    out.write(slice)\n",
        "\n",
        "# Release the video writer and video capture objects\n",
        "out.release()\n",
        "cap.release()\n",
        "\n",
        "# Close all windows\n",
        "cv2.destroyAllWindows()\n"
      ]
    },
    {
      "cell_type": "code",
      "source": [],
      "metadata": {
        "id": "_G1QQYyw2VN0"
      },
      "execution_count": null,
      "outputs": []
    }
  ]
}