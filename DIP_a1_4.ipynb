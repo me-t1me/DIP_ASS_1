{
  "cells": [
    {
      "cell_type": "markdown",
      "metadata": {
        "id": "view-in-github",
        "colab_type": "text"
      },
      "source": [
        "<a href=\"https://colab.research.google.com/github/me-t1me/DIP_ASS_1/blob/master/DIP_a1_4.ipynb\" target=\"_parent\"><img src=\"https://colab.research.google.com/assets/colab-badge.svg\" alt=\"Open In Colab\"/></a>"
      ]
    },
    {
      "cell_type": "code",
      "execution_count": null,
      "metadata": {
        "id": "B1iJQkACA2Fs"
      },
      "outputs": [],
      "source": [
        "import cv2\n",
        "import numpy as np\n",
        "\n",
        "# Load grayscale video\n",
        "cap = cv2.VideoCapture('ans3_moon_ce.mp4')\n",
        "\n",
        "# Define piecewise linear transformation parameters\n",
        "r1, s1 = 50, 0\n",
        "r2, s2 = 200, 255\n",
        "\n",
        "# Define video writer object\n",
        "fps = cap.get(cv2.CAP_PROP_FPS)\n",
        "width = int(cap.get(cv2.CAP_PROP_FRAME_WIDTH))\n",
        "height = int(cap.get(cv2.CAP_PROP_FRAME_HEIGHT))\n",
        "fourcc = cv2.VideoWriter_fourcc(*'mp4v')\n",
        "out = cv2.VideoWriter('piecewise_linear_contrast_stretched_grayscale_moon.mp4', fourcc, fps, (width, height), isColor=False)\n",
        "\n",
        "while cap.isOpened():\n",
        "    ret, frame = cap.read()\n",
        "    if ret:\n",
        "        # Apply piecewise linear transformation\n",
        "        gray = cv2.cvtColor(frame, cv2.COLOR_BGR2GRAY)\n",
        "        frame_trans = np.uint8(np.interp(gray, [0, r1, r2, 255], [s1, s1, s2, s2]))\n",
        "        \n",
        "        # Write processed frame to output video\n",
        "        out.write(frame_trans)\n",
        "        \n",
        "        # Display processed fram\n",
        "    else:\n",
        "        break\n",
        "\n",
        "# Release video capture and writer objects\n",
        "cap.release()\n",
        "out.release()\n",
        "\n",
        "# Close all windows\n",
        "cv2.destroyAllWindows()\n"
      ]
    },
    {
      "cell_type": "code",
      "execution_count": null,
      "metadata": {
        "id": "_NFrhLy1Dkvz"
      },
      "outputs": [],
      "source": []
    }
  ],
  "metadata": {
    "colab": {
      "provenance": [],
      "authorship_tag": "ABX9TyN4uxPHRpmswu9T48uM5Ndq",
      "include_colab_link": true
    },
    "kernelspec": {
      "display_name": "Python 3",
      "name": "python3"
    },
    "language_info": {
      "name": "python"
    }
  },
  "nbformat": 4,
  "nbformat_minor": 0
}