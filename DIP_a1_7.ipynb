{
  "nbformat": 4,
  "nbformat_minor": 0,
  "metadata": {
    "colab": {
      "provenance": [],
      "authorship_tag": "ABX9TyNLCJenycmD2rM2CxhF6M0C",
      "include_colab_link": true
    },
    "kernelspec": {
      "name": "python3",
      "display_name": "Python 3"
    },
    "language_info": {
      "name": "python"
    }
  },
  "cells": [
    {
      "cell_type": "markdown",
      "metadata": {
        "id": "view-in-github",
        "colab_type": "text"
      },
      "source": [
        "<a href=\"https://colab.research.google.com/github/me-t1me/DIP_ASS_1/blob/master/DIP_a1_7.ipynb\" target=\"_parent\"><img src=\"https://colab.research.google.com/assets/colab-badge.svg\" alt=\"Open In Colab\"/></a>"
      ]
    },
    {
      "cell_type": "code",
      "execution_count": null,
      "metadata": {
        "id": "-5kIljEKV3yx"
      },
      "outputs": [],
      "source": [
        "import cv2\n",
        "\n",
        "# Read grayscale video\n",
        "cap = cv2.VideoCapture('ans3_moon_ce.mp4')\n",
        "\n",
        "# Get video information\n",
        "fps = cap.get(cv2.CAP_PROP_FPS)\n",
        "width = int(cap.get(cv2.CAP_PROP_FRAME_WIDTH))\n",
        "height = int(cap.get(cv2.CAP_PROP_FRAME_HEIGHT))\n",
        "\n",
        "# Define VideoWriter object to save processed video\n",
        "fourcc = cv2.VideoWriter_fourcc(*'mp4v')\n",
        "out = cv2.VideoWriter('histeq_moon.mp4', fourcc, fps, (width, height), isColor=False)\n",
        "\n",
        "while True:\n",
        "    # Read frame from video\n",
        "    ret, frame = cap.read()\n",
        "\n",
        "    if not ret:\n",
        "        break\n",
        "\n",
        "    gray = cv2.cvtColor(frame, cv2.COLOR_BGR2GRAY)\n",
        "    \n",
        "    # Apply histogram equalization\n",
        "    frame_eq = cv2.equalizeHist(gray)\n",
        "\n",
        "    # Write processed frame to output video\n",
        "    out.write(frame_eq)\n",
        "\n",
        "    # Display processed frame\n",
        "    # cv2.imshow('frame', frame_eq)\n",
        "    if cv2.waitKey(1) & 0xFF == ord('q'):\n",
        "        break\n",
        "\n",
        "# Release resources\n",
        "cap.release()\n",
        "out.release()\n",
        "cv2.destroyAllWindows()\n"
      ]
    },
    {
      "cell_type": "code",
      "source": [],
      "metadata": {
        "id": "JxcBhel_XUo0"
      },
      "execution_count": null,
      "outputs": []
    }
  ]
}