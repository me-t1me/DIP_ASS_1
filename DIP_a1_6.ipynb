{
  "nbformat": 4,
  "nbformat_minor": 0,
  "metadata": {
    "colab": {
      "provenance": [],
      "authorship_tag": "ABX9TyP+5kwPdtgpdnABepyHPNO+",
      "include_colab_link": true
    },
    "kernelspec": {
      "name": "python3",
      "display_name": "Python 3"
    },
    "language_info": {
      "name": "python"
    }
  },
  "cells": [
    {
      "cell_type": "markdown",
      "metadata": {
        "id": "view-in-github",
        "colab_type": "text"
      },
      "source": [
        "<a href=\"https://colab.research.google.com/github/me-t1me/DIP_ASS_1/blob/master/DIP_a1_6.ipynb\" target=\"_parent\"><img src=\"https://colab.research.google.com/assets/colab-badge.svg\" alt=\"Open In Colab\"/></a>"
      ]
    },
    {
      "cell_type": "code",
      "execution_count": 5,
      "metadata": {
        "id": "aj50FXBo3LXc"
      },
      "outputs": [],
      "source": [
        "import cv2\n",
        "import numpy as np\n",
        "\n",
        "# Load the video\n",
        "cap = cv2.VideoCapture(\"ans3_moon_ce.mp4\")\n",
        "\n",
        "# Check if the video was successfully opened\n",
        "if not cap.isOpened():\n",
        "    print(\"Error opening video file\")\n",
        "    exit()\n",
        "\n",
        "# Get the video frames per second (fps)\n",
        "fps = cap.get(cv2.CAP_PROP_FPS)\n",
        "\n",
        "# Get the video frame size\n",
        "frame_width = int(cap.get(cv2.CAP_PROP_FRAME_WIDTH))\n",
        "frame_height = int(cap.get(cv2.CAP_PROP_FRAME_HEIGHT))\n",
        "\n",
        "# Define the codec and create the video writer object\n",
        "fourcc = cv2.VideoWriter_fourcc(*'mp4v')\n",
        "out = cv2.VideoWriter('output_bit_plane_slicing.mp4', fourcc, fps, (frame_width, frame_height), isColor=False)\n",
        "\n",
        "while True:\n",
        "    # Read a frame from the video\n",
        "    ret, frame = cap.read()\n",
        "\n",
        "    # Check if the frame was successfully read\n",
        "    if not ret:\n",
        "        break\n",
        "\n",
        "    # Apply bit-plane slicing\n",
        "    gray = cv2.cvtColor(frame, cv2.COLOR_BGR2GRAY)\n",
        "    bits = []\n",
        "    for i in range(8):\n",
        "        plane = cv2.bitwise_and(gray, 1 << i)\n",
        "        bits.append(plane)\n",
        "\n",
        "    # Combine the bit planes into a single image\n",
        "    bit_plane_image = np.zeros_like(gray)\n",
        "    for i in range(7, 4, -1):\n",
        "        bit_plane_image = cv2.add(bit_plane_image, bits[i])\n",
        "\n",
        "    # Write the frame to the output video\n",
        "    out.write(bit_plane_image)\n",
        "\n",
        "    # Show the frame\n",
        "    # cv2.imshow(\"Frame\", bit_plane_image)\n",
        "\n",
        "    # Wait for a key press\n",
        "    key = cv2.waitKey(int(1000/fps))\n",
        "    if key == 27:\n",
        "        break\n",
        "\n",
        "# Release the video writer and video capture objects\n",
        "out.release()\n",
        "cap.release()\n",
        "\n",
        "# Close all windows\n",
        "cv2.destroyAllWindows()\n"
      ]
    },
    {
      "cell_type": "code",
      "source": [],
      "metadata": {
        "id": "SCqnVZQl32R4"
      },
      "execution_count": null,
      "outputs": []
    }
  ]
}