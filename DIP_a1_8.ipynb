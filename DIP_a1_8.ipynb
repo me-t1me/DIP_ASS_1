{
  "cells": [
    {
      "cell_type": "markdown",
      "metadata": {
        "id": "view-in-github",
        "colab_type": "text"
      },
      "source": [
        "<a href=\"https://colab.research.google.com/github/me-t1me/DIP_ASS_1/blob/master/DIP_a1_8.ipynb\" target=\"_parent\"><img src=\"https://colab.research.google.com/assets/colab-badge.svg\" alt=\"Open In Colab\"/></a>"
      ]
    },
    {
      "cell_type": "code",
      "execution_count": null,
      "metadata": {
        "id": "XYhuj5tMYEDJ"
      },
      "outputs": [],
      "source": [
        "import cv2\n",
        "import numpy as np\n",
        "from google.colab.patches import cv2_imshow\n",
        "\n",
        "# Read the grayscale video\n",
        "cap = cv2.VideoCapture('ans3_moon_ce.mp4')\n",
        "\n",
        "# Get video information\n",
        "fps = cap.get(cv2.CAP_PROP_FPS)\n",
        "width = int(cap.get(cv2.CAP_PROP_FRAME_WIDTH))\n",
        "height = int(cap.get(cv2.CAP_PROP_FRAME_HEIGHT))\n",
        "\n",
        "\n",
        "# Create a 7x7 averaging kernel\n",
        "kernel = np.ones((7,7), np.float32) / 49\n",
        "\n",
        "# Loop through each frame of the video\n",
        "fourcc = cv2.VideoWriter_fourcc(*'mp4v')\n",
        "out = cv2.VideoWriter('ans8_filtered.mp4', fourcc, fps, (width, height), isColor=False)\n",
        "\n",
        "\n",
        "while(cap.isOpened()):\n",
        "    ret, frame = cap.read()\n",
        "    if not ret:\n",
        "        break\n",
        "    \n",
        "    gray = cv2.cvtColor(frame, cv2.COLOR_BGR2GRAY)\n",
        "    # Apply the filter to the current frame\n",
        "    filtered_frame = cv2.filter2D(gray, -1, kernel)\n",
        "\n",
        "    \n",
        "    # Save the filtered frame\n",
        "    out.write(filtered_frame)\n",
        "    cv2_imshow(filtered_frame)\n",
        "    \n",
        "        \n",
        "# Release the video capture and writer objects and close all windows\n",
        "cap.release()\n",
        "out.release()\n",
        "cv2.destroyAllWindows()\n"
      ]
    },
    {
      "cell_type": "code",
      "execution_count": null,
      "metadata": {
        "id": "uAkPoF3KZB4w"
      },
      "outputs": [],
      "source": []
    }
  ],
  "metadata": {
    "colab": {
      "provenance": [],
      "authorship_tag": "ABX9TyM7RYJkEzhJzx62rcbF3vtJ",
      "include_colab_link": true
    },
    "kernelspec": {
      "display_name": "Python 3",
      "name": "python3"
    },
    "language_info": {
      "name": "python"
    }
  },
  "nbformat": 4,
  "nbformat_minor": 0
}