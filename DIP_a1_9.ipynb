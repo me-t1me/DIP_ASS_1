{
  "nbformat": 4,
  "nbformat_minor": 0,
  "metadata": {
    "colab": {
      "provenance": [],
      "authorship_tag": "ABX9TyNokQbGynrX2Bj62EaFhOAO",
      "include_colab_link": true
    },
    "kernelspec": {
      "name": "python3",
      "display_name": "Python 3"
    },
    "language_info": {
      "name": "python"
    }
  },
  "cells": [
    {
      "cell_type": "markdown",
      "metadata": {
        "id": "view-in-github",
        "colab_type": "text"
      },
      "source": [
        "<a href=\"https://colab.research.google.com/github/me-t1me/DIP_ASS_1/blob/master/DIP_a1_9.ipynb\" target=\"_parent\"><img src=\"https://colab.research.google.com/assets/colab-badge.svg\" alt=\"Open In Colab\"/></a>"
      ]
    },
    {
      "cell_type": "code",
      "execution_count": null,
      "metadata": {
        "id": "Sv11foS3eiEU"
      },
      "outputs": [],
      "source": [
        "import cv2\n",
        "\n",
        "\n",
        "cap = cv2.VideoCapture('ans3_moon_ce.mp4')\n",
        "\n",
        "# Get the video properties\n",
        "fps = int(cap.get(cv2.CAP_PROP_FPS))\n",
        "width = int(cap.get(cv2.CAP_PROP_FRAME_WIDTH))\n",
        "height = int(cap.get(cv2.CAP_PROP_FRAME_HEIGHT))\n",
        "\n",
        "# Create a VideoWriter object to save the output video\n",
        "fourcc = cv2.VideoWriter_fourcc(*'mp4v')\n",
        "\n",
        "out = cv2.VideoWriter(\"ans9_sharpened_video.mp4\", fourcc, fps, (width, height), isColor=False)\n",
        "\n",
        "\n",
        "\n",
        "# Loop through each frame of the video\n",
        "while cap.isOpened():\n",
        "    ret, frame = cap.read()\n",
        "\n",
        "    if not ret:\n",
        "        break\n",
        "    \n",
        "    # Convert the frame to grayscale\n",
        "    gray = cv2.cvtColor(frame, cv2.COLOR_BGR2GRAY)\n",
        "\n",
        "    sobel_x = cv2.Sobel(gray, ddepth=cv2.CV_8U, dx=1, dy=0, ksize=5)\n",
        "    sobel_y = cv2.Sobel(gray, ddepth=cv2.CV_8U, dx=0, dy=1, ksize=5)\n",
        "    \n",
        "    # Apply Sobel filter to the grayscale image\n",
        "    sobel_combined = abs(sobel_x) + abs(sobel_y)\n",
        "    \n",
        "    # Add the filtered frame to the output video\n",
        "    out.write(sobel_combined)\n",
        "    \n",
        "# Release the video objects\n",
        "cap.release()\n",
        "out.release()\n",
        "\n",
        "# Close all windows\n",
        "cv2.destroyAllWindows()\n"
      ]
    },
    {
      "cell_type": "code",
      "source": [],
      "metadata": {
        "id": "DSRMSgApfup9"
      },
      "execution_count": null,
      "outputs": []
    }
  ]
}